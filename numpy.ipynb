{
  "cells": [
    {
      "cell_type": "markdown",
      "metadata": {
        "id": "vC84e9kzyxPy"
      },
      "source": [
        "<h1>Импорт библиотек"
      ]
    },
    {
      "cell_type": "code",
      "execution_count": 1,
      "metadata": {
        "id": "cgKeNegmQG5S"
      },
      "outputs": [],
      "source": [
        "import numpy as np\n",
        "import matplotlib.pyplot as plt"
      ]
    },
    {
      "cell_type": "markdown",
      "metadata": {
        "id": "qFM9uVU2x4Ls"
      },
      "source": [
        "<h1>Задача 1. Дан набор из p матриц размерностью (n, n) и p векторов размерностью (n, 1), найти сумму произведений матриц на векторы. Написать тесты для кода"
      ]
    },
    {
      "cell_type": "code",
      "execution_count": 27,
      "metadata": {
        "id": "IAbUvEiYyWFF"
      },
      "outputs": [],
      "source": [
        "def sum_prod(X, V):\n",
        "    '''\n",
        "    X - матрицы (n, n)\n",
        "    V - векторы (n, 1)\n",
        "    Гарантируется, что len(X) == len(V)\n",
        "    '''\n",
        "    summ = 0\n",
        "    for i in range(len(X)):\n",
        "        summ += np.dot(X[i], V[i])\n",
        "    return summ \n",
        "\n",
        "\n",
        "def test():\n",
        "    # 1 тест\n",
        "    X = [np.array([[1, 2], [3, 4]]), np.array([[5, 6], [7, 8]])]\n",
        "    V = [np.array([[1], [1]]), np.array([[1], [1]])]\n",
        "    result = np.array([[14], [22]])\n",
        "    assert np.array_equal(sum_prod(X, V), result), 'Test case failed'\n",
        "\n",
        "    # 2 тест\n",
        "    X = [np.array([[2, 0], [0, 2]]), np.array([[1, 1], [1, 1]])]\n",
        "    V = [np.array([[1], [2]]), np.array([[3], [4]])]\n",
        "    result = np.array([[9], [11]])\n",
        "    assert np.array_equal(sum_prod(X, V), result), 'Test case failed' \n",
        "\n",
        "\n",
        "test()"
      ]
    },
    {
      "cell_type": "markdown",
      "metadata": {
        "id": "TKwPG4fIy2w4"
      },
      "source": [
        "<h1>Задача 2. Дана матрица M, напишите функцию, которая бинаризует матрицу по некоторому threshold (то есть, все значения большие threshold становятся равными 1, иначе 0). Напишите тесты для кода"
      ]
    },
    {
      "cell_type": "code",
      "execution_count": 41,
      "metadata": {
        "id": "KQDNMgsjRNH7"
      },
      "outputs": [],
      "source": [
        "def binarize(M, threshold=0.5):\n",
        "    mask = np.array(M > threshold, dtype=int)\n",
        "    return mask \n",
        "\n",
        "\n",
        "def test():\n",
        "    # 1 тест\n",
        "    matrix = np.array([[1, 2], [3, 4]])\n",
        "    result = np.array([[1, 1], [1, 1]])\n",
        "    assert np.array_equal(binarize(matrix), result), 'Test case failed'\n",
        "\n",
        "    # 2 тест\n",
        "    matrix = np.array([[0.3, 0], [0.9, 1]])\n",
        "    result = np.array([[0, 0], [1, 1]])\n",
        "    assert np.array_equal(binarize(matrix), result), 'Test case failed' \n",
        "\n",
        "\n",
        "test()"
      ]
    },
    {
      "cell_type": "markdown",
      "metadata": {
        "id": "IY5L-h-7zWhN"
      },
      "source": [
        "<h1>Задача 3. Напишите функцию, которая возвращает уникальные элементы из каждой строки матрицы. Напишите такую же функцию, но для столбцов. Напишите тесты для кода"
      ]
    },
    {
      "cell_type": "code",
      "execution_count": 91,
      "metadata": {
        "id": "-8dEZhR0SBC-"
      },
      "outputs": [],
      "source": [
        "def unique_rows(matrix):\n",
        "    result = [set(np.unique(row)) for row in matrix]\n",
        "    return result\n",
        "\n",
        "\n",
        "def unique_columns(matrix):\n",
        "    result = []\n",
        "    shape = np.shape(matrix)\n",
        "    for j in range(shape[1]):\n",
        "        result.append(set(np.unique(matrix[ : , j])))\n",
        "    return result\n",
        "\n",
        "\n",
        "def test():\n",
        "    # 1 тест\n",
        "    matrix = np.array([[1, 2, 3], [1, 4, 4]])\n",
        "    # (уникальность в строках)\n",
        "    result = [{1, 2, 3}, {1, 4}]\n",
        "    assert unique_rows(matrix) == result, 'Test case failed'  \n",
        "    # (уникальность в столбцах)\n",
        "    result = [{1}, {2, 4}, {3, 4}]\n",
        "    assert unique_columns(matrix) == result, 'Test case failed'\n",
        "\n",
        "    # 2 тест\n",
        "    matrix = np.array([[1, 1, 3], [5, 8, 9], [9, 9, 3]])\n",
        "    # (уникальность в строках)\n",
        "    result = [{1, 3}, {5, 8, 9}, {9, 3}]\n",
        "    assert unique_rows(matrix) == result, 'Test case failed'  \n",
        "    # (уникальность в столбцах)\n",
        "    result = [{1, 5, 9}, {1, 8, 9}, {3, 9}]\n",
        "    assert unique_columns(matrix) == result, 'Test case failed'\n",
        "\n",
        "\n",
        "test()"
      ]
    },
    {
      "cell_type": "markdown",
      "metadata": {
        "id": "roYAlo4Jz-lH"
      },
      "source": [
        "<h1>Задача 4. Напишите функцию, которая заполняет матрицу с размерами (m, n) случайными числами, распределенными по нормальному закону. Затем считает мат. ожидание и дисперсию для каждого из столбцов и строк, а также строит для каждой строки и столбца гистограмму значений (использовать функцию hist из модуля matplotlib.plot)"
      ]
    },
    {
      "cell_type": "code",
      "execution_count": 110,
      "metadata": {
        "id": "nZK_71hMSQzv"
      },
      "outputs": [
        {
          "name": "stdout",
          "output_type": "stream",
          "text": [
            "[[ 2.32654156 -1.40352021 -0.14339197]\n",
            " [ 0.37076608 -0.14386928  1.1526322 ]\n",
            " [ 2.3671737  -0.66212507 -1.1249906 ]]\n",
            "\n",
            "1-я строка\n",
            "Математическое ожидание 0.2598764613497283\n",
            "Дисперсия 2.4002061726981805\n",
            "2-я строка\n",
            "Математическое ожидание 0.4598429990653459\n",
            "Дисперсия 0.2841200329770683\n",
            "3-я строка\n",
            "Математическое ожидание 0.19335267860496708\n",
            "Дисперсия 2.3984563414929805\n",
            "\n",
            "1-й столбец\n",
            "Математическое ожидание 1.688160445889775\n",
            "Дисперсия 0.8680391244984076\n",
            "2-й столбец\n",
            "Математическое ожидание -0.7365048534683986\n",
            "Дисперсия 0.2672195843529905\n",
            "3-й столбец\n",
            "Математическое ожидание -0.03858345340133532\n",
            "Дисперсия 0.870086682467971\n"
          ]
        }
      ],
      "source": [
        "def func(m, n):\n",
        "    matrix = np.random.normal(size=(m, n))\n",
        "    print(matrix)\n",
        "    print()\n",
        "    order = 1\n",
        "    for row in matrix:\n",
        "        print(f'{order}-я строка')\n",
        "        print(f'Математическое ожидание', np.mean(row))\n",
        "        print(f'Дисперсия', np.var(row))\n",
        "        order += 1\n",
        "    print()\n",
        "    order = 1\n",
        "    for j in range(matrix.shape[1]):\n",
        "        print(f'{order}-й столбец')\n",
        "        column = matrix[ : , j]\n",
        "        print(f'Математическое ожидание', np.mean(column))\n",
        "        print(f'Дисперсия', np.var(column))\n",
        "        order += 1\n",
        "\n",
        "\n",
        "func(3, 3)"
      ]
    },
    {
      "cell_type": "code",
      "execution_count": 111,
      "metadata": {},
      "outputs": [
        {
          "name": "stdout",
          "output_type": "stream",
          "text": [
            "[12 15 18]\n"
          ]
        }
      ],
      "source": [
        "import numpy as np\n",
        "\n",
        "array = np.array([[1, 2, 3],\n",
        "                  [4, 5, 6],\n",
        "                  [7, 8, 9]])\n",
        "\n",
        "sum_by_columns = np.sum(array, axis=0)\n",
        "print(sum_by_columns)\n",
        "\n"
      ]
    },
    {
      "cell_type": "markdown",
      "metadata": {
        "id": "BDyATNdM0dJ2"
      },
      "source": [
        "<h1>Задача 5. Напишите функцию, которая заполняет матрицу $(m, n)$ в шахматном порядке заданными числами $a$ и $b$. Напишите тесты для кода"
      ]
    },
    {
      "cell_type": "code",
      "execution_count": 6,
      "metadata": {
        "id": "RWNJYWQGecS6"
      },
      "outputs": [],
      "source": [
        "def chess(m, n, a, b):\n",
        "    # Your code goes here\n",
        "    pass"
      ]
    },
    {
      "cell_type": "markdown",
      "metadata": {
        "id": "-ymXLtTN0vB6"
      },
      "source": [
        "<h1>Задача 6. Напишите функцию, которая отрисовывает прямоугольник с заданными размерами (a, b) на изображении размера (m, n), цвет фона задайте в схеме RGB, как и цвет прямоугольника. Цвета также должны быть параметрами функции. Напишите аналогичную функцию но для овала с полуосями a и b. Напишите тесты для кода.\n",
        "Примечание: уравнение эллипса (границы овала) можно записать как:\n",
        "<h1>$\\frac{(x-x_0)^2}{a^2}+\\frac{(y-y_0)^2}{b^2}=1$"
      ]
    },
    {
      "cell_type": "code",
      "execution_count": 7,
      "metadata": {
        "id": "sNfl1t_kfOF4"
      },
      "outputs": [],
      "source": [
        "def draw_rectangle(a, b, m, n, rectangle_color, background_color):\n",
        "    # Your code goes here\n",
        "    pass\n",
        "\n",
        "def draw_ellipse(a, b, m, n, ellipse_color, background_color):\n",
        "    # Your code goes here\n",
        "    pass"
      ]
    },
    {
      "cell_type": "markdown",
      "metadata": {
        "id": "S82c38oz244H"
      },
      "source": [
        "<h1>Задача 7. Дан некий временной ряд. Для данного ряда нужно найти его: математическое ожидание, дисперсию, СКО, найти все локальные максимумы и минимумы (локальный максимум - это точка, которая больше своих соседних точек, а локальный минимум - это точка, которая меньше своих соседей), а также вычислить для данного ряда другой ряд, получаемый методом скользящего среднего с размером окна $p$.\n",
        "<h1>Примечание: метод скользящего среднего подразумевает нахождение среднего из подмножетсва ряда размером $p$"
      ]
    },
    {
      "cell_type": "code",
      "execution_count": 8,
      "metadata": {
        "id": "Zb9mIVge5MMt"
      },
      "outputs": [],
      "source": [
        "# Your code goes here"
      ]
    },
    {
      "cell_type": "markdown",
      "metadata": {
        "id": "jPkylmOX5O9n"
      },
      "source": [
        "<h1> Задача 8. Дан некоторый вектор с целочисленными метками классов, напишите функцию, которая выполняет one-hot-encoding для данного вектора\n",
        "<h1> One-hot-encoding - представление, в котором на месте метки некоторого класса стоит 1, в остальных позициях стоит 0. Например для вектора [0, 2, 3, 0] one-hot-encoding выглядит как: [[1, 0, 0, 0], [0, 0, 1, 0], [0, 0, 0, 1], [1, 0, 0, 0]]"
      ]
    },
    {
      "cell_type": "code",
      "execution_count": 9,
      "metadata": {
        "id": "Y-jlnZvw56lD"
      },
      "outputs": [],
      "source": [
        "# Your code goes here"
      ]
    }
  ],
  "metadata": {
    "colab": {
      "provenance": []
    },
    "kernelspec": {
      "display_name": "Python 3",
      "name": "python3"
    },
    "language_info": {
      "codemirror_mode": {
        "name": "ipython",
        "version": 3
      },
      "file_extension": ".py",
      "mimetype": "text/x-python",
      "name": "python",
      "nbconvert_exporter": "python",
      "pygments_lexer": "ipython3",
      "version": "3.11.5"
    }
  },
  "nbformat": 4,
  "nbformat_minor": 0
}
