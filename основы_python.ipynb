{
  "cells": [
    {
      "cell_type": "markdown",
      "metadata": {
        "id": "M-DGa20PaHnu"
      },
      "source": [
        "# Задача 1\n",
        "Написать функцию на вход которой подается строка, состоящая из латинских букв.\n",
        "Функция должна вернуть количество гласных букв (a, e, i, o, u) в этой строке. Написать тесты для кода"
      ]
    },
    {
      "cell_type": "code",
      "execution_count": 9,
      "metadata": {
        "id": "XvX8X_JJ6PCb"
      },
      "outputs": [],
      "source": [
        "def func(text):\n",
        "    text = text.lower()\n",
        "    count = 0\n",
        "    for let in text:\n",
        "        if let in 'aeiou':\n",
        "            count += 1\n",
        "    return count\n",
        "\n",
        "\n",
        "assert func(\"Hello\") == 2, \"Test case failed\"\n",
        "assert func('fbcd') == 0, 'Test case failed'\n",
        "assert func('Ignat') == 2, 'Test case failed'"
      ]
    },
    {
      "cell_type": "markdown",
      "metadata": {
        "id": "t2ClV_Y0bbr6"
      },
      "source": [
        "# Задача 2\n",
        "Написать функцию на вход, которой подается строка. Функция должна вернуть true, если\n",
        "каждый символ в строке встречается только 1 раз, иначе должна вернуть false. Написать тесты для кода"
      ]
    },
    {
      "cell_type": "code",
      "execution_count": 10,
      "metadata": {
        "id": "FppbECao6VIz"
      },
      "outputs": [],
      "source": [
        "def func(text):\n",
        "    d = {}\n",
        "    fl = True\n",
        "    for let in text:\n",
        "        if let in d.keys():\n",
        "            fl = False\n",
        "            break\n",
        "        else:\n",
        "            d[let] = 1\n",
        "    return fl \n",
        "\n",
        "\n",
        "assert func('abcdefgh') == True, 'Test case failed'\n",
        "assert func('ignatik') == False, 'Test case failed'"
      ]
    },
    {
      "cell_type": "markdown",
      "metadata": {
        "id": "udRiIK1cdt6E"
      },
      "source": [
        "# Задача 3\n",
        "Написать функцию, которая принимает положительное число и возвращает количество\n",
        "бит равных 1 в этом числе. Написать тесты для кода"
      ]
    },
    {
      "cell_type": "code",
      "execution_count": 11,
      "metadata": {
        "id": "6tkfDJRz6dp_"
      },
      "outputs": [],
      "source": [
        "def func(num):  # num > 0\n",
        "    return str(bin(num))[2:].count('1')\n",
        "\n",
        "assert func(13) == 3, 'Test case failed'\n",
        "assert func(100) == 3, 'Test case failed'\n",
        "assert func(500) == 6, 'Test case failed'\n",
        "assert func(20) == 2, 'Test case failed'"
      ]
    },
    {
      "cell_type": "markdown",
      "metadata": {
        "id": "26dDUz-Ae17N"
      },
      "source": [
        "# Задача 4\n",
        "Написать функцию, которая принимает положительное число. Функция должна вернуть то,\n",
        "сколько раз необходимо перемножать цифры числа или результат перемножения, чтобы\n",
        "получилось число состоящее из одной цифры.\n",
        "Например, для входного числа:\n",
        "· 39 функция должна вернуть 3, так как 3*9=27 => 2*7=14 => 1*4=4\n",
        "· 4 функция должна вернуть 0, так как число уже состоит из одной цифры\n",
        "· 999 функция должна вернуть 4, так как 9*9*9=729 => 7*2*9=126 => 1*2*6=12 =>\n",
        "1*2=2. Написать тесты для кода"
      ]
    },
    {
      "cell_type": "code",
      "execution_count": 12,
      "metadata": {
        "id": "BH1A_Mgi6i4G"
      },
      "outputs": [],
      "source": [
        "def magic(num):  # num > 0\n",
        "    count = 0\n",
        "    while len(str(num)) > 1:\n",
        "        prod = 1\n",
        "        for digit in str(num):\n",
        "            prod *= int(digit)\n",
        "        num = prod \n",
        "        count += 1\n",
        "    return count \n",
        "\n",
        "\n",
        "assert magic(39) == 3, 'Test case failed'\n",
        "assert magic(999) == 4, 'Test case failed'\n",
        "assert magic(5) == 0, 'Test case failed'\n",
        "assert magic(20) == 1, 'Test case failed'"
      ]
    },
    {
      "cell_type": "markdown",
      "metadata": {
        "id": "0nS-kIa8g8vd"
      },
      "source": [
        "# Задача 5\n",
        "Написать функцию, которая принимает два целочисленных вектора одинаковой длины и\n",
        "возвращает среднеквадратическое отклонение двух векторов. Написать тесты для кода"
      ]
    },
    {
      "cell_type": "code",
      "execution_count": 13,
      "metadata": {
        "id": "8iphx4LM6xbx"
      },
      "outputs": [],
      "source": [
        "def mse(pred, true):\n",
        "    squared_errors = [(p - t) ** 2 for p, t in zip(pred, true)]\n",
        "    return sum(squared_errors) / len(squared_errors)\n",
        "\n",
        "\n",
        "assert mse([1, 2, 3], [1, 2, 3]) == 0, 'Test case failed'\n",
        "assert mse([1, 2, 3, 4, 5], [3, 5, 6, 7, 7]) == 7, 'Test case failed'\n",
        "assert mse([1, 2, 3], [4, 5, 6]) == 9, 'Test case failed'"
      ]
    },
    {
      "cell_type": "markdown",
      "metadata": {
        "id": "vpIPKL439zkw"
      },
      "source": [
        "# Задача 6\n",
        "Написать функцию, принимающая целое положительное число. Функция должна вернуть\n",
        "строку вида “(n1**p1)(n2**p2)…(nk**pk)” представляющая разложение числа на простые\n",
        "множители (если pi == 1, то выводить только ni).\n",
        "Например, для числа 86240 функция должна вернуть “(2\\**5)(5)(7\\**2)(11)”. Написать тесты для кода"
      ]
    },
    {
      "cell_type": "code",
      "execution_count": 14,
      "metadata": {},
      "outputs": [],
      "source": [
        "def limit(num):\n",
        "    num //= 2\n",
        "    if len(str(num)) > 1:\n",
        "        return int(str(num)[:-1]) + 1\n",
        "    else:\n",
        "        return int(str(num // 2)[0]) + 1\n",
        "\n",
        "def func(num):\n",
        "    if num == 1:\n",
        "        return '(1)'\n",
        "    else:\n",
        "        lst_simple = [2, 3, 5, 7]\n",
        "        lst_right = [1, 3, 7, 9]\n",
        "        for left in range(1, limit(num)):\n",
        "            for right in lst_right:\n",
        "                empty = int(str(left) + str(right))\n",
        "                fl = True\n",
        "                for i in range(4):\n",
        "                    if empty % lst_simple[i] == 0:\n",
        "                        fl = False\n",
        "                        break \n",
        "                if fl:\n",
        "                    lst_simple.append(empty)\n",
        "        dict_mult = {}\n",
        "        ind = 0\n",
        "        while num != 1:\n",
        "            if num % lst_simple[ind] == 0:\n",
        "                if lst_simple[ind] in dict_mult.keys():\n",
        "                    dict_mult[lst_simple[ind]] += 1\n",
        "                    num //= lst_simple[ind]\n",
        "                else:\n",
        "                    dict_mult[lst_simple[ind]] = 1\n",
        "                    num //= lst_simple[ind]\n",
        "            else:\n",
        "                ind += 1\n",
        "        result = ''\n",
        "        for key in dict_mult.keys():\n",
        "            if dict_mult[key] != 1:\n",
        "                result += f'({key}**{dict_mult[key]})'\n",
        "            else:\n",
        "                result += f'({key})'\n",
        "        return result\n",
        "\n",
        "\n",
        "assert func(86240) == '(2**5)(5)(7**2)(11)', 'Test case failed'\n",
        "assert func(999) == '(3**3)(37)', 'Test case failed'\n",
        "assert func(333) == '(3**2)(37)', 'Test case failed'\n",
        "assert func(1) == '(1)', 'Test case failed'\n",
        "assert func(7) == '(7)', 'Test case failed'\n",
        "assert func(1929924) == '(2**2)(3**2)(53609)', 'Test case failed'"
      ]
    },
    {
      "cell_type": "markdown",
      "metadata": {
        "id": "ps2s0BudX7A2"
      },
      "source": [
        "# Задача 7\n",
        "Написать функцию, принимающая целое число n, задающее количество кубиков. Функция\n",
        "должна определить, можно ли из данного кол-ва кубиков построить пирамиду, то есть\n",
        "можно ли представить число n как 1^2+2^2+3^2+…+k^2. Если можно, то функция должна\n",
        "вернуть k, иначе строку “It is impossible”. Написать тесты для кода"
      ]
    },
    {
      "cell_type": "code",
      "execution_count": 15,
      "metadata": {
        "id": "3YPjEXxhX_YT"
      },
      "outputs": [],
      "source": [
        "def pyramid(number):\n",
        "    k = 0\n",
        "    summ = 0\n",
        "    while True:\n",
        "        summ += (k + 1) ** 2\n",
        "        k += 1\n",
        "        if summ + (k + 1) ** 2 > number:\n",
        "            break \n",
        "    if summ == number:\n",
        "        return k \n",
        "    else:\n",
        "        return 'It is impossible'\n",
        "\n",
        "\n",
        "assert pyramid(1) == 1, 'Test case failed'\n",
        "assert pyramid(5) == 2, 'Test case failed'\n",
        "assert pyramid(14) == 3, 'Test case failed'\n",
        "assert pyramid(30) == 4, 'Test case failed'\n",
        "assert pyramid(55) == 5, 'Test case failed'\n",
        "assert pyramid(60) == 'It is impossible', 'Test case failed'\n",
        "assert pyramid(0) == 'It is impossible', 'Test case failed'"
      ]
    },
    {
      "cell_type": "markdown",
      "metadata": {
        "id": "KeKgmIdAQMEJ"
      },
      "source": [
        "# Задача 8\n",
        "Функция принимает на вход положительное число и определяет является ли оно сбалансированным, т.е. сумма цифр до средних равна сумме цифр после. Средними в случае нечетного числа цифр считать одну цифру, в случае четного - две средних. Написать тесты для кода"
      ]
    },
    {
      "cell_type": "code",
      "execution_count": 16,
      "metadata": {
        "id": "gMAAqtqlQrZt"
      },
      "outputs": [],
      "source": [
        "def func(num):\n",
        "    num_str = str(num)\n",
        "    if len(num_str) % 2 == 0:\n",
        "        left = [int(digit) for digit in num_str[ : len(num_str) // 2 - 1]]\n",
        "        right = [int(digit) for digit in num_str[len(num_str) // 2 + 1 : ]]\n",
        "    else:\n",
        "        left = [int(digit) for digit in num_str[ : len(num_str) // 2]] \n",
        "        right = [int(digit) for digit in num_str[len(num_str) // 2 + 1 : ]]\n",
        "    if sum(left) == sum(right):\n",
        "        return 'Число является сбалансированным'\n",
        "    else:\n",
        "        return 'Число не является сбалансированным' \n",
        "\n",
        "\n",
        "assert func(323) == 'Число является сбалансированным', 'Test case failed'\n",
        "assert func(123) == 'Число не является сбалансированным', 'Test case failed'\n",
        "assert func(12303) == 'Число является сбалансированным', 'Test case failed'\n",
        "assert func(743456) == 'Число является сбалансированным', 'Test case failed'\n",
        "assert func(1) == 'Число является сбалансированным', 'Test case failed'\n",
        "assert func(123456) == 'Число не является сбалансированным', 'Test case failed'"
      ]
    }
  ],
  "metadata": {
    "colab": {
      "provenance": []
    },
    "kernelspec": {
      "display_name": "Python 3",
      "name": "python3"
    },
    "language_info": {
      "codemirror_mode": {
        "name": "ipython",
        "version": 3
      },
      "file_extension": ".py",
      "mimetype": "text/x-python",
      "name": "python",
      "nbconvert_exporter": "python",
      "pygments_lexer": "ipython3",
      "version": "3.11.5"
    }
  },
  "nbformat": 4,
  "nbformat_minor": 0
}
